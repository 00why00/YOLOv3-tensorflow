{
 "cells": [
  {
   "cell_type": "markdown",
   "metadata": {
    "collapsed": true,
    "pycharm": {
     "name": "#%% md\n"
    }
   },
   "source": [
    "# YOLO v3"
   ]
  },
  {
   "cell_type": "markdown",
   "source": [
    "### 1、边界框预测 Bounding Box Prediction\n",
    "![bounding box](https://pic4.zhimg.com/80/v2-fb1de98b79b463e2d04bcd8768a9bea3_720w.jpg)\n",
    "用逻辑回归预测每个边界框的object score。\n",
    "如果当前预测的边界框比之前的更好地与ground truth对象重合，那它的分数就是1。\n",
    "如果当前的预测不是最好的，但它和ground truth对象重合到了一定阈值以上，神经网络会忽视这个预测。使用的阈值是.5。\n",
    "系统只为每个ground truth对象分配一个边界框。如果先前的边界框并未分配给相应对象，那它只是检测错了对象，而不会对坐标或分类预测造成影响。"
   ],
   "metadata": {
    "collapsed": false
   }
  },
  {
   "cell_type": "markdown",
   "source": [
    "### 2、分类预测 Class Prediction\n",
    "每个边界框都会使用多标记分类来预测框中可能包含的类，用单独的逻辑分类器\n",
    "在训练过程中，用二元交叉熵损失来预测类别。"
   ],
   "metadata": {
    "collapsed": false,
    "pycharm": {
     "name": "#%% md\n"
    }
   }
  },
  {
   "cell_type": "markdown",
   "source": [
    "### 3、跨尺寸预测 Predictions Across Scales\n",
    "YOLOv3提供了3种尺寸不一的边界框。\n",
    "在基本特征提取器中增加了几个卷积层，并用最后的卷积层预测一个三维张量编码：边界框、框中目标和分类预测。\n",
    "从前两个图层中得到特征图，并对它进行2次上采样。再从网络更早的图层中获得特征图，用element-wise把高低两种分辨率的特征图连接到一起。\n",
    "添加几个卷积层来处理这个特征映射组合，并最终预测出一个相似的、大小是原先两倍的张量。\n",
    "YOLOv3使用的聚类方法还是K-Means，它能用来确定边界框的先验。\n",
    "![结构图](https://img-blog.csdnimg.cn/20200806234925504.png?x-oss-process=image/watermark,type_ZmFuZ3poZW5naGVpdGk,shadow_10,text_aHR0cHM6Ly9ibG9nLmNzZG4ubmV0L25hbjM1NTY1NTYwMA==,size_16,color_FFFFFF,t_70#pic_center)"
   ],
   "metadata": {
    "collapsed": false
   }
  },
  {
   "cell_type": "markdown",
   "source": [
    "### 4、特征提取器 Feature Extractor\n",
    "Darknet-53\n",
    "![Darknet-53](https://pic4.zhimg.com/80/v2-e826eaedc0600bf1a056d5d068cfb3f3_720w.jpg)"
   ],
   "metadata": {
    "collapsed": false
   }
  },
  {
   "cell_type": "code",
   "execution_count": null,
   "outputs": [],
   "source": [],
   "metadata": {
    "collapsed": false,
    "pycharm": {
     "name": "#%%\n"
    }
   }
  }
 ],
 "metadata": {
  "kernelspec": {
   "display_name": "Python 3",
   "language": "python",
   "name": "python3"
  },
  "language_info": {
   "codemirror_mode": {
    "name": "ipython",
    "version": 2
   },
   "file_extension": ".py",
   "mimetype": "text/x-python",
   "name": "python",
   "nbconvert_exporter": "python",
   "pygments_lexer": "ipython2",
   "version": "2.7.6"
  }
 },
 "nbformat": 4,
 "nbformat_minor": 0
}