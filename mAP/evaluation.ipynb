{
 "cells": [
  {
   "cell_type": "markdown",
   "metadata": {
    "collapsed": true,
    "pycharm": {
     "name": "#%% md\n"
    }
   },
   "source": [
    "# 目标检测的评价指标"
   ]
  },
  {
   "cell_type": "markdown",
   "source": [
    "#### 混淆矩阵 Confusion Matrix\n",
    "| - | - | 预 | 测 |\n",
    "| - | - | - | - |\n",
    "| - | - | Y | N |\n",
    "| 实 | P | TP | FN |\n",
    "| 际 | N | FP | TN |\n",
    "\n",
    "* True positives: 正样本被正确识别为正样本\n",
    "* True negatives: 负样本被正确识别为负样本\n",
    "* False positives: 负样本被错误识别为正样本\n",
    "* False negatives: 正样本被错误识别为负样本"
   ],
   "metadata": {
    "collapsed": false
   }
  },
  {
   "cell_type": "markdown",
   "source": [
    "#### 准确率 Accuracy\n",
    "accuracy = (TP + TN) / (P + N)\n",
    "准确率一般用来评估模型的全局准确程度，不能包含太多信息，无法全面评价一个模型性能。"
   ],
   "metadata": {
    "collapsed": false
   }
  },
  {
   "cell_type": "markdown",
   "source": [
    "#### 精确率 Precision 和 召回率 Recall\n",
    "精确率是在识别出来的图片中，True positives所占的比率。\n",
    "precision = TP / (TP + FP) = TP / N\n",
    "\n",
    "召回率是所有正样本样例中，被正确识别为正样本的比例。\n",
    "recall = TP / (TP + FN) = TP / P\n",
    "\n",
    "Precision-recall 曲线: 改变识别阈值，使得系统依次能够识别前K张图片，阈值的变化同时会导致Precision与Recall值发生变化，从而得到曲线。"
   ],
   "metadata": {
    "collapsed": false
   }
  },
  {
   "cell_type": "markdown",
   "source": [
    "#### 平均精度 Average-Precision,AP 和 mean Average Precision,mAP\n",
    "AP就是Precision-recall 曲线下面的面积，通常来说一个越好的分类器，AP值越高。\n",
    "\n",
    "mAP是多个类别AP的平均值。这个mean的意思是对每个类的AP再求平均，得到的就是mAP的值，mAP的大小一定在[0,1]区间，越大越好。该指标是目标检测算法中最重要的一个。"
   ],
   "metadata": {
    "collapsed": false
   }
  },
  {
   "cell_type": "markdown",
   "source": [
    "#### MR-FPPI (Miss rate against false positives per image)\n",
    "MR = FN / P\n",
    "FPPI = FP / (P + N)"
   ],
   "metadata": {
    "collapsed": false
   }
  },
  {
   "cell_type": "markdown",
   "source": [
    "#### MR-2\n",
    "我们用log-average miss rate来总结探测器的性能。\n",
    "计算方法是在9个FPPI值下（在值域[0.01，1.0]内以对数空间均匀间隔）的平均miss rate值"
   ],
   "metadata": {
    "collapsed": false
   }
  },
  {
   "cell_type": "markdown",
   "source": [
    "#### IoU\n",
    "系统预测出来的框与原来图片中标记的框的重合程度。\n",
    "\n",
    "计算方法即检测结果Detection Result与 Ground Truth 的交集比上它们的并集，即为检测的准确率。"
   ],
   "metadata": {
    "collapsed": false,
    "pycharm": {
     "name": "#%% md\n"
    }
   }
  },
  {
   "cell_type": "markdown",
   "source": [
    "#### ROC（Receiver Operating Characteristic）曲线 和 AUC（Area Under Curve）\n",
    "ROC曲线：\n",
    "> * 横坐标: 假正率(False positive rate, FPR) FPR = FP / (FP + TN) 代表所有负样本中错误预测为正样本的概率，假警报率\n",
    "> * 纵坐标: 真正率(True positive rate， TPR)，TPR  = TP / (TP + FN) 代表所有正样本中预测正确的概率，命中率\n",
    "> * 优点: 当测试集中的正负样本的分布变化的时候，ROC曲线能够保持不变\n",
    "> * 缺点: 信息检索中如果主要关心正例的预测准确性的话，在ROC曲线上却无法直观地看出来\n",
    "\n",
    "AUC (Area Under Curve)即为ROC曲线下的面积。AUC越接近于1，分类器性能越好。"
   ],
   "metadata": {
    "collapsed": false
   }
  },
  {
   "cell_type": "markdown",
   "source": [
    "#### 非极大值抑制 Non-Maximum Suppression,NMS\n",
    "根据score矩阵和region的坐标信息，从中找到置信度比较高的bounding box。对于有重叠在一起的预测框，只保留得分最高的那个"
   ],
   "metadata": {
    "collapsed": false
   }
  }
 ],
 "metadata": {
  "kernelspec": {
   "display_name": "Python 3",
   "language": "python",
   "name": "python3"
  },
  "language_info": {
   "codemirror_mode": {
    "name": "ipython",
    "version": 2
   },
   "file_extension": ".py",
   "mimetype": "text/x-python",
   "name": "python",
   "nbconvert_exporter": "python",
   "pygments_lexer": "ipython2",
   "version": "2.7.6"
  }
 },
 "nbformat": 4,
 "nbformat_minor": 0
}